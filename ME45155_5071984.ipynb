{
 "cells": [
  {
   "cell_type": "code",
   "execution_count": null,
   "metadata": {},
   "outputs": [],
   "source": [
    "import pandas as pd\n",
    "import numpy as np\n",
    "import matplotlib.pyplot as plt\n",
    "from CoolProp.CoolProp import PropsSI"
   ]
  },
  {
   "cell_type": "markdown",
   "metadata": {},
   "source": [
    "## Input Data"
   ]
  },
  {
   "cell_type": "code",
   "execution_count": null,
   "metadata": {},
   "outputs": [],
   "source": [
    "T_now_C = 11.07\n",
    "A = 40\n",
    "H = 1.5\n",
    "\n",
    "T_now = T_now_C + 273.15\n",
    "V = A*H\n",
    "m = PropsSI('D','P',101325,'T',T_now,'Water')*V"
   ]
  },
  {
   "cell_type": "markdown",
   "metadata": {},
   "source": [
    "\n",
    "## Control Variables\n",
    "1 for on, 0 for off"
   ]
  },
  {
   "cell_type": "code",
   "execution_count": null,
   "metadata": {},
   "outputs": [],
   "source": [
    "convection = 1      \n",
    "evaporation = 1    \n",
    "solar = 1          \n",
    "control = 1   \n",
    "ctrend = 1      # Correlation for convection     \n",
    "etrend = 1      # Correlation for evaporation\n",
    "     \n",
    "eff = 0.2       # Solar Panel Efficiency    \n",
    "     \n",
    "hVal = 20       # Convective Heat Transfer Coefficient in W/m2K\n",
    "eVal = 10       # Volumetric Rate of Evaporation in liters/day  "
   ]
  },
  {
   "cell_type": "markdown",
   "metadata": {},
   "source": [
    "### External Heating Control\n",
    "Specify the required temperature"
   ]
  },
  {
   "cell_type": "code",
   "execution_count": null,
   "metadata": {},
   "outputs": [],
   "source": [
    "T_user_C = 18\n",
    "T_user = T_user_C + 273.15"
   ]
  },
  {
   "cell_type": "markdown",
   "metadata": {},
   "source": [
    "### Solar Panel Control"
   ]
  },
  {
   "cell_type": "code",
   "execution_count": null,
   "metadata": {},
   "outputs": [],
   "source": [
    "a = 10          # Area of solar panel in m^2"
   ]
  },
  {
   "cell_type": "markdown",
   "metadata": {},
   "source": [
    "### Convection Control"
   ]
  },
  {
   "cell_type": "code",
   "execution_count": null,
   "metadata": {},
   "outputs": [],
   "source": [
    "def h_conv(w):\n",
    "    if ctrend==1:\n",
    "      y = 10 + (30)*(w-1)/(9)\n",
    "      return y\n",
    "    else:\n",
    "      return hVal"
   ]
  },
  {
   "cell_type": "markdown",
   "metadata": {},
   "source": [
    "### Evaporation Control"
   ]
  },
  {
   "cell_type": "code",
   "execution_count": null,
   "metadata": {},
   "outputs": [],
   "source": [
    "q_ev = PropsSI('H','P',101325,'Q',1,'Water') - PropsSI('H','P',101325,'Q',0,'Water')\n",
    "\n",
    "def ev1(w,T):\n",
    "  if etrend==1:\n",
    "    y = 4 + (16-4)*(w)/(3)\n",
    "    D = PropsSI('D','P',101325,'T',T,'Water')\n",
    "    return 0.25*y/D\n",
    "  else:\n",
    "    return eVal*1e-3/24"
   ]
  },
  {
   "cell_type": "markdown",
   "metadata": {},
   "source": [
    "## KNMI Weather Data"
   ]
  },
  {
   "cell_type": "code",
   "execution_count": null,
   "metadata": {},
   "outputs": [],
   "source": [
    "url = 'https://raw.githubusercontent.com/shyam97/modelling1/master/knmi.csv'\n",
    "array = pd.read_csv(url, sep=',',header=None)\n",
    "temp = 0.1*array.values[:,0]\n",
    "shine = 1e4*array.values[:,1]\n",
    "wind = 0.1*array.values[:,2]\n",
    "hours = np.linspace(1,31,num=len(temp))"
   ]
  },
  {
   "cell_type": "markdown",
   "metadata": {},
   "source": [
    "### Plot of Local Temperature"
   ]
  },
  {
   "cell_type": "code",
   "execution_count": null,
   "metadata": {},
   "outputs": [],
   "source": [
    "plt.figure(figsize=(20,5))\n",
    "plt.plot(hours,temp,'b')\n",
    "plt.xlim([1,30])\n",
    "plt.xlabel(\"Day in April\")\n",
    "plt.ylabel(\"Temperature in °C\")\n",
    "plt.xticks(np.arange(min(hours), max(hours)+1, 1.0))\n",
    "plt.title(\"Air Temperature Variation\")"
   ]
  },
  {
   "cell_type": "markdown",
   "metadata": {},
   "source": [
    "### Plot of Sunshine"
   ]
  },
  {
   "cell_type": "code",
   "execution_count": null,
   "metadata": {},
   "outputs": [],
   "source": [
    "plt.figure(figsize=(20,5))\n",
    "plt.plot(hours,1e-4*shine,'b')\n",
    "plt.xlim([1,30])\n",
    "plt.xlabel(\"Day in April\")\n",
    "plt.ylabel(\"Irradiation in J/sq.cm/hr\")\n",
    "plt.xticks(np.arange(min(hours), max(hours)+1, 1.0))\n",
    "plt.title(\"Sunshine Variation\")"
   ]
  },
  {
   "cell_type": "markdown",
   "metadata": {},
   "source": [
    "### Plot of Wind Speed"
   ]
  },
  {
   "cell_type": "code",
   "execution_count": null,
   "metadata": {},
   "outputs": [],
   "source": [
    "plt.figure(figsize=(20,5))\n",
    "plt.plot(hours,wind,'b')\n",
    "plt.xlim([1,30])\n",
    "plt.xlabel(\"Day in April\")\n",
    "plt.ylabel(\"Wind speed in m/s\")\n",
    "plt.xticks(np.arange(min(hours), max(hours)+1, 1.0))\n",
    "plt.title(\"Wind Variation\")"
   ]
  },
  {
   "cell_type": "markdown",
   "metadata": {},
   "source": [
    "## Time Integration of System of Equations"
   ]
  },
  {
   "cell_type": "markdown",
   "metadata": {},
   "source": [
    "### Initialisation of Matrices"
   ]
  },
  {
   "cell_type": "code",
   "execution_count": null,
   "metadata": {},
   "outputs": [],
   "source": [
    "T = np.zeros((len(temp)+1,1))\n",
    "Q_CM = np.zeros((len(temp),1))\n",
    "Q_EM = np.zeros((len(temp),1))\n",
    "Q_SM = np.zeros((len(temp),1))\n",
    "Q_M = np.zeros((len(temp),1))\n",
    "m_M = np.zeros((len(temp)+1,1))"
   ]
  },
  {
   "cell_type": "markdown",
   "metadata": {},
   "source": [
    "### Initial Values"
   ]
  },
  {
   "cell_type": "code",
   "execution_count": null,
   "metadata": {},
   "outputs": [],
   "source": [
    "T[0] = T_now\n",
    "m_M[0] = m"
   ]
  },
  {
   "cell_type": "markdown",
   "metadata": {},
   "source": [
    "### Start of Loop"
   ]
  },
  {
   "cell_type": "code",
   "execution_count": null,
   "metadata": {},
   "outputs": [],
   "source": [
    "for i in range(0,len(temp)):\n",
    "    \n",
    "    # break if pool goes below 0°C\n",
    "    if T_now < 273.15:\n",
    "        print(\"The pool froze!\")\n",
    "        m_M = m_M[0:i]\n",
    "        T = T[0:i]\n",
    "        Q_M = Q_M[0:i]\n",
    "        Q_CM = Q_CM[0:i]\n",
    "        Q_EM = Q_EM[0:i]\n",
    "        Q_SM = Q_SM[0:i]\n",
    "        break\n",
    "    \n",
    "    # fetch values for density and specific heat\n",
    "    D = PropsSI('D','P',101325,'T',T_now,'Water')  \n",
    "    Cp = PropsSI('Cpmass','P',101325,'T',T_now,'Water')\n",
    "    \n",
    "    # convection term\n",
    "    if convection==1:\n",
    "        h_c = h_conv(wind[i])\n",
    "        Q_C = - h_c * A * (T_now - temp[i] - 273.15) * 3600\n",
    "        Q_CM[i] = Q_C\n",
    "    \n",
    "    # evaporation term\n",
    "    if evaporation==1:\n",
    "        V_ev = ev1(wind[i],T_now)\n",
    "        m1 = m\n",
    "        m2 = m - D*V_ev\n",
    "        m3 = 0.5*(m2+m1)\n",
    "        m = m - V_ev*D\n",
    "        Q_E = -q_ev*ev1(wind[i],T_now)*D\n",
    "        Q_EM[i] = Q_E\n",
    "    else:\n",
    "        m3 = m\n",
    "        \n",
    "    # solar term\n",
    "    if solar==1:\n",
    "        if control ==1:\n",
    "            Q_S = shine[i]*eff*a\n",
    "        elif control==0.5:\n",
    "            if T_now<T_user:\n",
    "                Q_S = shine[i]*eff*a\n",
    "            else:\n",
    "                Q_S = 0\n",
    "        else:\n",
    "            Q_S = 0\n",
    "        Q_SM[i] = Q_S\n",
    "        \n",
    "    # energy balance\n",
    "    Q = Q_S + Q_E + Q_C\n",
    "    Q_M[i] = Q\n",
    "    \n",
    "    # temperature at next time\n",
    "    delT = Q/(m3*Cp)\n",
    "    T_next = T_now + delT\n",
    "    T[i+1] = T_next\n",
    "    T_now = T_next\n",
    "    m_M[i+1] = m"
   ]
  },
  {
   "cell_type": "markdown",
   "metadata": {},
   "source": [
    "### Plot of Temperature of Pool Water"
   ]
  },
  {
   "cell_type": "code",
   "execution_count": null,
   "metadata": {},
   "outputs": [],
   "source": [
    "if convection or evaporation or solar:\n",
    "    hour = np.linspace(1,len(T)/24+1,num=len(T))\n",
    "    plt.figure(figsize=(20,5))\n",
    "    plt.plot(hour,T-273.15,'r')\n",
    "    plt.xlim([1,len(T)/24+1])\n",
    "    plt.xlabel(\"Day in April\")\n",
    "    plt.ylabel(\"Temperature of Pool in °C\")\n",
    "    plt.xticks(np.arange(min(hour), max(hour), 1.0))\n",
    "    plt.title(\"Temperature vs Time\")"
   ]
  },
  {
   "cell_type": "markdown",
   "metadata": {},
   "source": [
    "### Plot of Heat Flux"
   ]
  },
  {
   "cell_type": "code",
   "execution_count": null,
   "metadata": {},
   "outputs": [],
   "source": [
    "if convection or evaporation or solar:\n",
    "    hours = np.linspace(1,len(Q_M)/24 + 1,num=len(Q_M))\n",
    "    plt.figure(figsize=(20,5))\n",
    "    plt.plot(hours,Q_M/3600,'k',linewidth=2,label=\"Total Heat Flux\")\n",
    "    if convection==1:\n",
    "        plt.plot(hours,Q_CM/3600,'b',linewidth=0.75,label=\"Convection\")\n",
    "    if evaporation==1:\n",
    "        plt.plot(hours,Q_EM/3600,'g',linewidth=0.75,label=\"Evaporation\")\n",
    "    if solar==1:\n",
    "        plt.plot(hours,Q_SM/3600,'r',linewidth=0.75,label=\"Solar Panel\")\n",
    "    plt.ticklabel_format(axis='y', style='sci', scilimits=(2,4))\n",
    "    plt.xticks(np.arange(min(hours), max(hours)+1, 1.0))\n",
    "    plt.xlim([1,len(Q_M)/24 + 1])\n",
    "    plt.xlabel(\"Day in April\")\n",
    "    plt.ylabel(\"Heat Flux in W\")\n",
    "    plt.title(\"Heat Flux vs Time\")\n",
    "    plt.legend()"
   ]
  },
  {
   "cell_type": "markdown",
   "metadata": {},
   "source": [
    "### Plot of Mass of Pool Water"
   ]
  },
  {
   "cell_type": "code",
   "execution_count": null,
   "metadata": {},
   "outputs": [],
   "source": [
    "if convection or evaporation or solar:\n",
    "    hours = np.linspace(1,len(m_M)/24 + 1,num=len(m_M))\n",
    "    plt.figure(figsize=(20,5))\n",
    "    plt.plot(hours,m_M,'g')\n",
    "    plt.xlim([1,len(m_M)/24+1])\n",
    "    plt.ylim([56000,60000])\n",
    "    plt.xlabel(\"Day in April\")\n",
    "    plt.ylabel(\"Mass of Pool Water in kg\")\n",
    "    plt.xticks(np.arange(min(hours), max(hours), 1.0))\n",
    "    plt.title(\"Mass of Pool Water vs Time\")"
   ]
  },
  {
   "cell_type": "markdown",
   "metadata": {},
   "source": [
    "## Calculation of Heating Costs"
   ]
  },
  {
   "cell_type": "code",
   "execution_count": null,
   "metadata": {},
   "outputs": [],
   "source": [
    "Cp1 = PropsSI('Cpmass','P',101325,'T',T_now,'Water')\n",
    "W = (m*Cp1*T_user - m*Cp1*T_now)/3600000\n",
    "P = W*0.25\n",
    "\n",
    "if solar == 0:\n",
    "  print(\"Solar panel heating is turned off. It will take %.2f EUR to heat\\\n",
    "        to %.2f°C\" %(P,T_user-273.15))\n",
    "\n",
    "if solar == 1:\n",
    "  if T_now > T_user:\n",
    "    print(\"Solar panel heating is turned on.\\nTemperature of the pool is\",\\\n",
    "          \"%.2f°C and the user-required temperature is %.2f°C.\" \\\n",
    "          %(T_now - 273.15, T_user_C),\"\\nHence, no heating required.\")\n",
    "  else:\n",
    "    print(\"Solar panel heating is turned on.\\nTemperature of the pool is\",\\\n",
    "          \"%.2f°C and the user-required temperature is %.2f°C.\\nIt will take\"\\\n",
    "          %(T_now-273.15,T_user-273.15),\\\n",
    "          \"%.2f EUR to heat to %.2f°C.\" %(P,T_user_C))\n",
    "\n",
    "  T_now = T_now_C + 273.15\n",
    "  m = m_M[0]\n",
    "  \n",
    "# Same loop but now without solar heating\n",
    "  for i in range(0,len(temp)):\n",
    "    D = PropsSI('D','P',101325,'T',T_now,'Water')  \n",
    "    Cp = PropsSI('Cpmass','P',101325,'T',T_now,'Water')\n",
    "    \n",
    "    if convection==1:\n",
    "        h_c = h_conv(wind[i])\n",
    "        Q_C = - h_c * A * (T_now - temp[i] - 273.15) * 3600\n",
    "    \n",
    "    if evaporation==1:\n",
    "        V_ev = ev1(wind[i],T_now)\n",
    "        m1 = m\n",
    "        m2 = m - D*V_ev\n",
    "        m3 = 0.5*(m2+m1)\n",
    "        m = m - V_ev*D\n",
    "        Q_E = -q_ev*ev1(wind[i],T_now)*D\n",
    "    else:\n",
    "        m3 = m\n",
    "        \n",
    "    Q = Q_E + Q_C\n",
    "    \n",
    "    delT = Q/(m3*Cp)\n",
    "    T_next = T_now + delT\n",
    "    T_now = T_next\n",
    "\n",
    "  Cp1 = PropsSI('Cpmass','P',101325,'T',T_now,'Water')\n",
    "  W = (m*Cp1*T_user - m*Cp1*T_now)/3600000\n",
    "  P = W*0.25\n",
    "  print(\"Without solar panel heating, it will take\",\\\n",
    "        \"%.2f EUR to heat to %.2f°C\" %(P,T_user-273.15))"
   ]
  }
 ],
 "metadata": {
  "kernelspec": {
   "display_name": "Python 3",
   "language": "python",
   "name": "python3"
  },
  "language_info": {
   "codemirror_mode": {
    "name": "ipython",
    "version": 3
   },
   "file_extension": ".py",
   "mimetype": "text/x-python",
   "name": "python",
   "nbconvert_exporter": "python",
   "pygments_lexer": "ipython3",
   "version": "3.7.3"
  }
 },
 "nbformat": 4,
 "nbformat_minor": 2
}
